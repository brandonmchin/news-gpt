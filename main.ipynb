{
 "cells": [
  {
   "attachments": {},
   "cell_type": "markdown",
   "metadata": {},
   "source": [
    "# Google News Summary w/ ChatGPT"
   ]
  },
  {
   "cell_type": "code",
   "execution_count": 72,
   "metadata": {},
   "outputs": [],
   "source": [
    "import requests\n",
    "from pygooglenews import GoogleNews\n",
    "\n",
    "gn = GoogleNews()"
   ]
  },
  {
   "cell_type": "code",
   "execution_count": 73,
   "metadata": {},
   "outputs": [],
   "source": [
    "def get_stories(topic):\n",
    "    headlines = gn.topic_headlines(topic)\n",
    "    headline_entries = headlines['entries'][:10] # First 10 entries\n",
    "    return [requests.get(entry.link).url for entry in headline_entries]"
   ]
  },
  {
   "cell_type": "code",
   "execution_count": 71,
   "metadata": {},
   "outputs": [
    {
     "name": "stdout",
     "output_type": "stream",
     "text": [
      "['https://www.theguardian.com/world/2023/mar/30/russia-ukraine-war-at-a-glance-what-we-know-on-day-400-of-the-invasion', 'https://www.washingtonpost.com/national-security/2023/03/29/kevin-mccarthy-taiwan-tsai-ing-wen/', 'https://apnews.com/article/france-protests-pensions-sanitation-strike-macron-b0a0dbc47e151af1a306b4cf64e5f893', 'https://www.aljazeera.com/news/2023/3/29/pope-francis-hospitalised-for-respiratory-treatment', 'https://www.bbc.com/news/world-africa-65120307', 'https://www.usatoday.com/story/news/politics/2023/03/29/ukraine-zelenskyy-china-xi-jinping/11563011002/', 'https://abcnews.go.com/GMA/Culture/camilla-wears-tiara-nod-queen-elizabeth-ii-1st/story?id=98213060', 'https://local12.com/news/nation-world/optimistic-biden-democracy-summit-world-turning-tide-after-backslide-autocracies-democratic-institutions-voting-rights-supreme-court-alabama-ukraine-volodymyr-zelenskyy-kenya-william-ruto-president-joe', 'https://news.un.org/en/story/2023/03/1135142', 'https://www.cnbc.com/2023/03/30/chinas-premier-li-qiang-seeks-to-rally-asia-behind-beijing.html']\n"
     ]
    }
   ],
   "source": [
    "# Here we're scraping the articles (This may take several seconds to complete).\n",
    "\n",
    "world = get_stories('WORLD')\n",
    "# tech = get_stories('TECHNOLOGY')\n",
    "# business = get_stories('BUSINESS')\n",
    "# science = get_stories('SCIENCE')"
   ]
  },
  {
   "cell_type": "code",
   "execution_count": 85,
   "metadata": {},
   "outputs": [],
   "source": [
    "import openai\n",
    "openai.api_key = open('API_KEY.txt', 'r').read().strip(\"\\n\")"
   ]
  },
  {
   "cell_type": "code",
   "execution_count": 80,
   "metadata": {},
   "outputs": [],
   "source": [
    "prompt = 'Can you summarize this article? ' + world[0]\n",
    "\n",
    "completion = openai.ChatCompletion.create(\n",
    "    model='gpt-3.5-turbo',\n",
    "    messages=[{\n",
    "        'role': 'user',\n",
    "        'content': prompt\n",
    "    }]\n",
    ")"
   ]
  },
  {
   "cell_type": "code",
   "execution_count": 81,
   "metadata": {},
   "outputs": [
    {
     "name": "stdout",
     "output_type": "stream",
     "text": [
      "The article provides a summary of the ongoing conflict between Russia and Ukraine, which has been ongoing for 400 days. It includes information on the background of the conflict, the current situation on the ground, and the international response to the crisis. It highlights the toll the conflict has taken on both sides, with thousands of deaths and displacements. The article also notes the ongoing diplomatic efforts to resolve the conflict and provides some context about Russia's motivations for the invasion.\n"
     ]
    }
   ],
   "source": [
    "reply_content = completion.choices[0].message.content\n",
    "print(reply_content)"
   ]
  },
  {
   "cell_type": "code",
   "execution_count": null,
   "metadata": {},
   "outputs": [],
   "source": []
  }
 ],
 "metadata": {
  "kernelspec": {
   "display_name": "venv",
   "language": "python",
   "name": "python3"
  },
  "language_info": {
   "codemirror_mode": {
    "name": "ipython",
    "version": 3
   },
   "file_extension": ".py",
   "mimetype": "text/x-python",
   "name": "python",
   "nbconvert_exporter": "python",
   "pygments_lexer": "ipython3",
   "version": "3.9.6"
  },
  "orig_nbformat": 4,
  "vscode": {
   "interpreter": {
    "hash": "4c841d5dd2f056298f08c6a9b8ecea8ea9de38589e4cce87dd7c4d81ee9473ad"
   }
  }
 },
 "nbformat": 4,
 "nbformat_minor": 2
}
